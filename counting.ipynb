{
 "cells": [
  {
   "cell_type": "code",
   "execution_count": null,
   "metadata": {},
   "outputs": [],
   "source": [
    "import cv2 as cv\n",
    "from skimage.measure import  regionprops_table\n",
    "import numpy as np\n",
    "import os\n",
    "import pandas as pd\n",
    "from PIL import Image"
   ]
  },
  {
   "cell_type": "code",
   "execution_count": null,
   "metadata": {},
   "outputs": [],
   "source": [
    "# from Dieter Baumgartner\n",
    "# labels the segmented images from Ilastik\n",
    "\n",
    "def watershed_seeded(Ilastik):\n",
    "    # Ilastik = Ilastik[300:500, 100:300]\n",
    "    center = np.where(Ilastik == 1, 255, 0)\n",
    "    center = np.uint8(center)\n",
    "\n",
    "    seg = np.where(Ilastik <= 2, 255, 0)\n",
    "    seg = np.uint8(seg)\n",
    "\n",
    "    unknown = cv.subtract(seg, center)\n",
    "    markers = cv.connectedComponents(center)\n",
    "\n",
    "    # Add one to all labels so that sure background is not 0, but 1\n",
    "    markers = markers[1]+1\n",
    "\n",
    "    # Now, mark the region of unknown with zero\n",
    "    markers[unknown==255] = 0\n",
    "\n",
    "    img2 = np.stack((seg,)*3, axis=2)\n",
    "    img2 = cv.normalize(img2, None, 255, 0, cv.NORM_MINMAX, cv.CV_8U)   \n",
    "\n",
    "    # return markers\n",
    "    return cv.watershed(img2,markers)"
   ]
  },
  {
   "cell_type": "code",
   "execution_count": null,
   "metadata": {},
   "outputs": [],
   "source": [
    "# take labeled segmented images and count cells\n",
    "def number_of_cells(labeled):\n",
    "\n",
    "    number_of_cells = []\n",
    "\n",
    "    for n in range(1,len(labeled)+1):\n",
    "        props = regionprops_table(labeled[n-1], \n",
    "                          properties=['area', \n",
    "                                      'equivalent_diameter',\n",
    "                                      'centroid'])\n",
    "\n",
    "        df = pd.DataFrame(props)\n",
    "        cell_area = df[\"area\"].median()\n",
    "        df_cut = pd.cut(df.area, bins=[0,cell_area, 2*cell_area, 3*cell_area]) \n",
    "        df_counts = df_cut.value_counts(sort=False)\n",
    "        counts =  df_cut.value_counts().tolist()\n",
    "        number_of_cells.append(counts[0]+counts[1]*2+counts[2]*3) #approximately counts aggregated cells\n",
    "\n",
    "    return number_of_cells"
   ]
  },
  {
   "cell_type": "code",
   "execution_count": null,
   "metadata": {},
   "outputs": [],
   "source": [
    "# reads 20 images in the mcherry channel segmented by Ilastik and label foreground that contains cells\n",
    "Ilastik = []\n",
    "labeled_mcherry = []\n",
    "\n",
    "for n in range(1,21):\n",
    "    fname = f\"example_images/Control Sample 10xdil Image{n:03}0001_seg.tif\"\n",
    "    Ilastik.append(np.array(Image.open(fname)))\n",
    "    labeled_mcherry.append(watershed_seeded(Ilastik[n-1]))"
   ]
  },
  {
   "cell_type": "code",
   "execution_count": null,
   "metadata": {},
   "outputs": [
    {
     "name": "stdout",
     "output_type": "stream",
     "text": [
      "[1407, 1284, 1367, 1440, 1413, 1467, 1467, 1526, 1425, 1372, 1216, 1284, 1166, 1271, 1268, 1467, 1370, 1700, 1847, 1486]\n"
     ]
    }
   ],
   "source": [
    "# count cells in the 20 images from mcherry channel\n",
    "\n",
    "n_ctrl_mcherry = number_of_cells(labeled_mcherry)\n",
    "print(n_ctrl_mcherry)"
   ]
  }
 ],
 "metadata": {
  "kernelspec": {
   "display_name": "base",
   "language": "python",
   "name": "python3"
  },
  "language_info": {
   "codemirror_mode": {
    "name": "ipython",
    "version": 3
   },
   "file_extension": ".py",
   "mimetype": "text/x-python",
   "name": "python",
   "nbconvert_exporter": "python",
   "pygments_lexer": "ipython3",
   "version": "3.10.9"
  },
  "orig_nbformat": 4
 },
 "nbformat": 4,
 "nbformat_minor": 2
}
