{
 "cells": [
  {
   "cell_type": "code",
   "execution_count": null,
   "metadata": {},
   "outputs": [],
   "source": [
    "import cv2 as cv\n",
    "import numpy as np\n",
    "import pandas as pd\n",
    "import statistics\n",
    "from skimage.measure import regionprops_table"
   ]
  },
  {
   "cell_type": "code",
   "execution_count": null,
   "metadata": {},
   "outputs": [],
   "source": [
    "# from Dieter Baumgartner\n",
    "# labels the segmented images from Ilastik\n",
    "\n",
    "def watershed_seeded(Ilastik):\n",
    "    # Ilastik = Ilastik[300:500, 100:300]\n",
    "    center = np.where(Ilastik == 1, 255, 0)\n",
    "    center = np.uint8(center)\n",
    "\n",
    "    seg = np.where(Ilastik <= 2, 255, 0)\n",
    "    seg = np.uint8(seg)\n",
    "\n",
    "    unknown = cv.subtract(seg, center)\n",
    "    markers = cv.connectedComponents(center)\n",
    "\n",
    "    # Add one to all labels so that sure background is not 0, but 1\n",
    "    markers = markers[1]+1\n",
    "\n",
    "    # Now, mark the region of unknown with zero\n",
    "    markers[unknown==255] = 0\n",
    "\n",
    "    img2 = np.stack((seg,)*3, axis=2)\n",
    "    img2 = cv.normalize(img2, None, 255, 0, cv.NORM_MINMAX, cv.CV_8U)   \n",
    "\n",
    "    # return markers\n",
    "    return cv.watershed(img2,markers)"
   ]
  },
  {
   "cell_type": "code",
   "execution_count": null,
   "metadata": {},
   "outputs": [],
   "source": [
    "# reads 20 images in mcherry(0001) and cfp(0002) channel that are segmented by Ilastik and label the foreground that contains cells\n",
    "Ilastik_mcherry = []\n",
    "labeled_mcherry = []\n",
    "\n",
    "for n in range(1,21):\n",
    "    fname = f\"example_images/Control Sample 10xdil Image{n:03}0001_seg.tif\"\n",
    "    Ilastik_mcherry.append(np.array(Image.open(fname)))\n",
    "    labeled_mcherry.append(watershed_seeded(Ilastik_mcherry[n-1]))\n",
    "\n",
    "Ilastik_cfp = []\n",
    "labeled_cfp = []\n",
    "\n",
    "for n in range(1,21):\n",
    "    fname = f\"example_images/Control Sample 10xdil Image{n:03}0002_seg.tif\"\n",
    "    Ilastik_cfp.append(np.array(Image.open(fname)))\n",
    "    labeled_cfp.append(watershed_seeded(Ilastik_cfp[n-1]))"
   ]
  },
  {
   "cell_type": "code",
   "execution_count": null,
   "metadata": {},
   "outputs": [],
   "source": [
    "# takes one labeled image and gives coordinates of all visible cells\n",
    "\n",
    "def coordinates(labeled):\n",
    "    \n",
    "    props = regionprops_table(labeled, properties=['centroid']) #assuming all cells are centroids\n",
    "    df = pd.DataFrame(props)\n",
    "    centroids = df.values.tolist()\n",
    "    centroids = [[round(x),round(y)] for x,y in centroids]\n",
    "\n",
    "    return centroids"
   ]
  },
  {
   "cell_type": "code",
   "execution_count": null,
   "metadata": {},
   "outputs": [],
   "source": [
    "# takes one labeled image and gives areas of the visible cells\n",
    "\n",
    "def cell_area(labeled):\n",
    "    props = regionprops_table(labeled, properties=['area'])\n",
    "    df = pd.DataFrame(props)\n",
    "    areas = df.area.tolist()\n",
    "    \n",
    "    return areas"
   ]
  },
  {
   "cell_type": "code",
   "execution_count": null,
   "metadata": {},
   "outputs": [],
   "source": [
    "p = 0 # processes the first image\n",
    "\n",
    "mcherry = coordinates(labeled_mcherry[p])\n",
    "area_mcherry = cell_area(labeled_mcherry[p])\n",
    "avg_cell_mcherry = statistics.median(area_mcherry) # finds the median area of all cells in the image\n",
    "\n",
    "# repeats for images in cfp channel\n",
    "cfp = coordinates(labeled_cfp[p])\n",
    "area_cfp = cell_area(labeled_cfp[p])\n",
    "cell_cfp = statistics.median(area_cfp)\n"
   ]
  },
  {
   "cell_type": "code",
   "execution_count": null,
   "metadata": {},
   "outputs": [],
   "source": [
    "# gets the x or y coordinates of the cells in the images\n",
    "mcherry_x = [x for x,y in mcherry]\n",
    "mcherry_y = [y for x,y in mcherry]\n",
    "cfp_x = [x for x,y in cfp]\n",
    "cfp_y = [y for x,y in cfp]"
   ]
  },
  {
   "cell_type": "code",
   "execution_count": null,
   "metadata": {},
   "outputs": [],
   "source": [
    "d = 5 # [pixel]\n",
    "# the maximal allowed distance between the candidate pair, i.e. donor and recipient cells\n",
    "\n",
    "candidates = []\n",
    "for n in range(1,len(mcherry)+1):\n",
    "    # puts threshold on the cell size in order to make sure the signal is a cell(not noise or random light spots)\n",
    "    if 0.8*avg_cell_mcherry <= area_mcherry[n-1] <= 3*avg_cell_mcherry:\n",
    "        for m in range(1,len(cfp)+1):\n",
    "            if 0.8*cell_cfp <= area_cfp[m-1] <= 3*cell_cfp:\n",
    "                if cfp_x[m-1] - d <= mcherry_x[n-1] <= cfp_x[m-1] + d and cfp_y[m-1] - d <= mcherry_y[n-1] <= cfp_y[m-1] + d:\n",
    "                    candidates.append(mcherry[n-1])"
   ]
  },
  {
   "cell_type": "code",
   "execution_count": null,
   "metadata": {},
   "outputs": [],
   "source": [
    "print(\";\".join([f\"{y},{x}\" for x,y in candidates]))"
   ]
  }
 ],
 "metadata": {
  "kernelspec": {
   "display_name": "Python 3",
   "language": "python",
   "name": "python3"
  },
  "language_info": {
   "codemirror_mode": {
    "name": "ipython",
    "version": 3
   },
   "file_extension": ".py",
   "mimetype": "text/x-python",
   "name": "python",
   "nbconvert_exporter": "python",
   "pygments_lexer": "ipython3",
   "version": "3.11.2"
  },
  "orig_nbformat": 4
 },
 "nbformat": 4,
 "nbformat_minor": 2
}
